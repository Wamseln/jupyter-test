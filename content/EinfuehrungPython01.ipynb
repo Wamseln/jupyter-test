{
  "metadata": {
    "kernelspec": {
      "name": "python",
      "display_name": "Python (Pyodide)",
      "language": "python"
    },
    "language_info": {
      "codemirror_mode": {
        "name": "python",
        "version": 3
      },
      "file_extension": ".py",
      "mimetype": "text/x-python",
      "name": "python",
      "nbconvert_exporter": "python",
      "pygments_lexer": "ipython3",
      "version": "3.8"
    }
  },
  "nbformat_minor": 4,
  "nbformat": 4,
  "cells": [
    {
      "cell_type": "markdown",
      "source": "# Einführung in Python\n\n## Kommentare\n\nKommentare beginnen mit `#`. Alles, was **in derselben Zeile**, aber **nach** `#` steht, wird beim Ausführen des Programms ignoriert.",
      "metadata": {}
    },
    {
      "cell_type": "code",
      "source": "# Dies ist ein Kommentar",
      "metadata": {
        "trusted": true
      },
      "outputs": [],
      "execution_count": null
    },
    {
      "cell_type": "markdown",
      "source": "Kommentare dienen der Erläuterung des Programm-Codes für die Informatikerin, bzw. den Informatiker. Sie sind sehr wichtig, um den Code auch zu einem späteren Zeitpunkt noch zu verstehen. Gutes und schlechtes Programmieren unterschieden sich wesentlich in der Güte der Kommentare.\n\t\n**Mehrzeilige** Kommentare werden durch dreifache Anführungszeichen gestartet und beendet:",
      "metadata": {}
    },
    {
      "cell_type": "code",
      "source": "\"\"\"\nDies ist ein Kommentar,\nder über mehrere Zeilen geht.\nDies ist praktisch für Erläuterungen am  \nAnfang von Programmen und Funktionen.\n\"\"\"",
      "metadata": {
        "trusted": true
      },
      "outputs": [],
      "execution_count": null
    },
    {
      "cell_type": "markdown",
      "source": "Alternativ können auch einfache Anführungszeichen verwendet werden:",
      "metadata": {}
    },
    {
      "cell_type": "code",
      "source": "'''\nDies ist ebenfalls ein Kommentar,\nder sich über mehrere Zeilen erstreckt.\n'''",
      "metadata": {
        "trusted": true
      },
      "outputs": [],
      "execution_count": null
    },
    {
      "cell_type": "markdown",
      "source": "## Variablen und Datentypen\n\nVariablen sind Behälter für Werte. Diese Behälter sind Bereiche im Speicher des Computers, die man abgrenzt und ihnen einen Namen (einen sogenannten Bezeichner) gibt. Dadurch kann man leicht auf die Werte im Behälter zugreifen und diese verändern. Zum Beispiel kann man eine Variable mit dem Bezeichner `x` folgendermaßen anlegen und ihr den Wert `42` zuweisen:",
      "metadata": {}
    },
    {
      "cell_type": "code",
      "source": "x = 42",
      "metadata": {
        "trusted": true
      },
      "outputs": [],
      "execution_count": null
    },
    {
      "cell_type": "markdown",
      "source": "Folgende Abbildung zeigt diesen Vorgang noch einmal in einer bildlichen Darstellung:\n\n<img src=\"data/media/variableBehaelter02.png\" alt=\"Bildliche Darstellung einer Variablen als Behälter für einen Wert\" width=\"600\"/>\n\nHier wird der Wert `42` in einer Variablen vom Typ `integer` (`int`) mit dem Bezeichner `x` gespeichert.\n\nMit **Variable** meint man also die Kombination aus einem Behälter, der einen **Bezeichner** trägt, dem **Wert**, der darin gespeichert ist und dem **Typ** dieses Werts. Das folgende Beispiel zeigt, wie drei solcher Variablen angelegt werden:",
      "metadata": {}
    },
    {
      "cell_type": "code",
      "source": "x = 42\ny = -3\na = 'M'\nb = '-3'",
      "metadata": {
        "trusted": true
      },
      "outputs": [],
      "execution_count": 1
    },
    {
      "cell_type": "markdown",
      "source": "Im Speicher erhält man dadurch diese vier Behälter:\n\n<img src=\"data/media/variableBehaelter04.png\" alt=\"Bildliche Darstellung einer Variablen als Behälter für einen Wert\" width=\"600\" style=\"background-color:#d3d3d3;\"/>\n\nWürde man nun einen Wert ändern, z.B. so:",
      "metadata": {}
    },
    {
      "cell_type": "code",
      "source": "x = 37\na = 'Hallo!'",
      "metadata": {
        "trusted": true
      },
      "outputs": [],
      "execution_count": null
    },
    {
      "cell_type": "markdown",
      "source": "Dann sähen diese Behälter im Speicher wie folgt aus:\n\n<img src=\"data/media/variableBehaelter05.png\" alt=\"Bildliche Darstellung einer Variablen als Behälter für einen Wert\" width=\"600\" style=\"background-color:#d3d3d3;\"/>\n\nMan unterscheidet dabei verschiedene Typen von Werten, sogenannte **Datentypen**. Es gibt Ganzzahlen (`int`, von engl. `integer`), Dezimalzahlen (`float`, von engl. `floating point` -- Gleitkomma), Zeichenketten (`string`) und Wahrheitswerte (`bool`, von engl. `boolean`). Für jeden dieser Typen gibt es eine eigene Art von Behälter. **In `Python` muss man dabei nicht für jede neue Variable angegeben, welchen Datentyp sie haben soll. Das wird durch den Wert festgelegt, den man dieser Variablen zuweist.** Die grundlegendsten Datentypen sind in der folgenden Abbildung gezeigt:\n\n<img src=\"data/media/variableBehaelterPython.png\" alt=\"Bildliche Darstellung einer Variablen als Behälter für einen Wert\" width=\"600\"/>\n\nEine Übersicht über alle diese Datentypen gibt die folgende Tabelle:\n\n<img src=\"data/media/variableTabellePython.png\" alt=\"Bildliche Darstellung einer Variablen als Behälter für einen Wert\" width=\"600\"/>",
      "metadata": {}
    },
    {
      "cell_type": "code",
      "source": "",
      "metadata": {
        "trusted": true
      },
      "outputs": [],
      "execution_count": null
    }
  ]
}